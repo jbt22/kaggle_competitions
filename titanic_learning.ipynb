{
 "cells": [
  {
   "cell_type": "code",
   "execution_count": 1,
   "metadata": {
    "collapsed": false
   },
   "outputs": [],
   "source": [
    "import pandas as pd\n",
    "from pylab import *\n",
    "pd.set_option('display.max_rows',1000)\n",
    "%matplotlib inline"
   ]
  },
  {
   "cell_type": "code",
   "execution_count": 2,
   "metadata": {
    "collapsed": false
   },
   "outputs": [],
   "source": [
    "# Load the datasets\n",
    "train = pd.read_csv('train.csv')\n",
    "test = pd.read_csv('test.csv')"
   ]
  },
  {
   "cell_type": "code",
   "execution_count": 3,
   "metadata": {
    "collapsed": false,
    "scrolled": true
   },
   "outputs": [],
   "source": [
    "# First, store all the labels from the training set into a separate series and drop them from training data\n",
    "train_labels = train['Survived']\n",
    "train = train.drop('Survived', axis=1)\n",
    "test_indices = test['PassengerId']\n",
    "\n",
    "# Remove unnecessary variables from both test and training datasets\n",
    "# Strictly speaking, \"Cabin\" is not unnecessary but there are so few \n",
    "# available data points that it is difficult to extrapolate what the \n",
    "# missing data values should be.\n",
    "train = train.drop(['PassengerId','Cabin'], axis=1)\n",
    "test = test.drop(['PassengerId','Cabin'], axis=1)\n",
    "\n",
    "# Convert \"sex\" binary categorical variable to 0/1\n",
    "train['Sex'] = train['Sex'].map({'male': 1, 'female': 0})\n",
    "test['Sex'] = test['Sex'].map({'male': 1, 'female': 0})"
   ]
  },
  {
   "cell_type": "code",
   "execution_count": 5,
   "metadata": {
    "collapsed": false
   },
   "outputs": [
    {
     "data": {
      "text/html": [
       "<div>\n",
       "<table border=\"1\" class=\"dataframe\">\n",
       "  <thead>\n",
       "    <tr style=\"text-align: right;\">\n",
       "      <th></th>\n",
       "      <th>Pclass</th>\n",
       "      <th>Age</th>\n",
       "    </tr>\n",
       "  </thead>\n",
       "  <tbody>\n",
       "    <tr>\n",
       "      <th>0</th>\n",
       "      <td>3</td>\n",
       "      <td>22.0</td>\n",
       "    </tr>\n",
       "    <tr>\n",
       "      <th>1</th>\n",
       "      <td>1</td>\n",
       "      <td>38.0</td>\n",
       "    </tr>\n",
       "    <tr>\n",
       "      <th>2</th>\n",
       "      <td>3</td>\n",
       "      <td>26.0</td>\n",
       "    </tr>\n",
       "    <tr>\n",
       "      <th>3</th>\n",
       "      <td>1</td>\n",
       "      <td>35.0</td>\n",
       "    </tr>\n",
       "    <tr>\n",
       "      <th>4</th>\n",
       "      <td>3</td>\n",
       "      <td>35.0</td>\n",
       "    </tr>\n",
       "    <tr>\n",
       "      <th>6</th>\n",
       "      <td>1</td>\n",
       "      <td>54.0</td>\n",
       "    </tr>\n",
       "    <tr>\n",
       "      <th>7</th>\n",
       "      <td>3</td>\n",
       "      <td>2.0</td>\n",
       "    </tr>\n",
       "    <tr>\n",
       "      <th>8</th>\n",
       "      <td>3</td>\n",
       "      <td>27.0</td>\n",
       "    </tr>\n",
       "    <tr>\n",
       "      <th>9</th>\n",
       "      <td>2</td>\n",
       "      <td>14.0</td>\n",
       "    </tr>\n",
       "    <tr>\n",
       "      <th>10</th>\n",
       "      <td>3</td>\n",
       "      <td>4.0</td>\n",
       "    </tr>\n",
       "  </tbody>\n",
       "</table>\n",
       "</div>"
      ],
      "text/plain": [
       "    Pclass   Age\n",
       "0        3  22.0\n",
       "1        1  38.0\n",
       "2        3  26.0\n",
       "3        1  35.0\n",
       "4        3  35.0\n",
       "6        1  54.0\n",
       "7        3   2.0\n",
       "8        3  27.0\n",
       "9        2  14.0\n",
       "10       3   4.0"
      ]
     },
     "execution_count": 5,
     "metadata": {},
     "output_type": "execute_result"
    }
   ],
   "source": [
    "# First, we will concatenate both training and test data to determine\n",
    "# statistical age-related data about 1st, 2nd, and 3rd class passengers\n",
    "full = pd.concat([train, test])\n",
    "\n",
    "# Form dataframe of all entries with non-null ages from both train and test datasets\n",
    "ages = pd.concat([full[full['Age'].notnull()]['Pclass'],full[full['Age'].notnull()]['Age']],axis=1)\n",
    "ages.reset_index(drop=True)\n",
    "ages.head(10)"
   ]
  },
  {
   "cell_type": "code",
   "execution_count": 6,
   "metadata": {
    "collapsed": false,
    "scrolled": false
   },
   "outputs": [],
   "source": [
    "# Now, group the age-related data by passenger class\n",
    "ages_1 = ages[ages['Pclass'] == 1]\n",
    "ages_2 = ages[ages['Pclass'] == 2]\n",
    "ages_3 = ages[ages['Pclass'] == 3]"
   ]
  },
  {
   "cell_type": "code",
   "execution_count": 7,
   "metadata": {
    "collapsed": false
   },
   "outputs": [
    {
     "data": {
      "image/png": "[encoded data removed]",
      "text/plain": [
       "<matplotlib.figure.Figure at 0x20ac76cfa90>"
      ]
     },
     "metadata": {},
     "output_type": "display_data"
    }
   ],
   "source": [
    "# Plot histogram of the ages of the 1st class passengers\n",
    "ages_1['Age'].hist(figsize=(5,5))\n",
    "xlabel('Age')\n",
    "ylabel('Count')\n",
    "title('Histogram of ages of 1st class passengers')\n",
    "show()"
   ]
  },
  {
   "cell_type": "code",
   "execution_count": 8,
   "metadata": {
    "collapsed": false
   },
   "outputs": [
    {
     "data": {
      "image/png": "[encoded data removed]",
      "text/plain": [
       "<matplotlib.figure.Figure at 0x20ac7808d30>"
      ]
     },
     "metadata": {},
     "output_type": "display_data"
    }
   ],
   "source": [
    "# Plot histogram of the ages of the 2nd class passengers\n",
    "ages_2['Age'].hist(figsize=(5,5))\n",
    "xlabel('Age')\n",
    "ylabel('Count')\n",
    "title('Histogram of ages of 2nd class passengers')\n",
    "show()"
   ]
  },
  {
   "cell_type": "code",
   "execution_count": 9,
   "metadata": {
    "collapsed": false
   },
   "outputs": [
    {
     "data": {
      "image/png": "[encoded data removed]",
      "text/plain": [
       "<matplotlib.figure.Figure at 0x20ac7beeeb8>"
      ]
     },
     "metadata": {},
     "output_type": "display_data"
    }
   ],
   "source": [
    "# Plot histogram of the ages of the 3rd class passengers\n",
    "ages_3['Age'].hist(figsize=(5,5))\n",
    "xlabel('Age')\n",
    "ylabel('Count')\n",
    "title('Histogram of ages of 3rd class passengers')\n",
    "show()"
   ]
  },
  {
   "cell_type": "code",
   "execution_count": 12,
   "metadata": {
    "collapsed": false
   },
   "outputs": [
    {
     "data": {
      "image/png": "[encoded data removed]",
      "text/plain": [
       "<matplotlib.figure.Figure at 0x20ac8d3dcf8>"
      ]
     },
     "metadata": {},
     "output_type": "display_data"
    },
    {
     "name": "stdout",
     "output_type": "stream",
     "text": [
      "Mean = 39.15992957746479\n",
      "Median = 39.0\n",
      "Mode = 36.0\n"
     ]
    }
   ],
   "source": [
    "# Plot box and whisker plot of 1st class passengers\n",
    "ages_1.boxplot(column='Age',return_type='dict')\n",
    "title('Distribution of ages of 1st class passengers')\n",
    "show()\n",
    "print('Mean =', ages_1['Age'].mean())\n",
    "print('Median =', ages_1['Age'].median())\n",
    "print('Mode =', ages_1['Age'].mode().values[0])"
   ]
  },
  {
   "cell_type": "code",
   "execution_count": 11,
   "metadata": {
    "collapsed": false
   },
   "outputs": [
    {
     "data": {
      "image/png": "[encoded data removed]",
      "text/plain": [
       "<matplotlib.figure.Figure at 0x20ac7be2940>"
      ]
     },
     "metadata": {},
     "output_type": "display_data"
    },
    {
     "name": "stdout",
     "output_type": "stream",
     "text": [
      "Mean = 29.506704980842912\n",
      "Median = 29.0\n",
      "Mode = 24.0\n"
     ]
    }
   ],
   "source": [
    "# Plot box and whisker plot of 2nd class passengers\n",
    "ages_2.boxplot(column='Age',return_type='dict')\n",
    "title('Distribution of ages of 2nd class passengers')\n",
    "show()\n",
    "print('Mean =', ages_2['Age'].mean())\n",
    "print('Median =', ages_2['Age'].median())\n",
    "print('Mode =', ages_2['Age'].mode().values[0])"
   ]
  },
  {
   "cell_type": "code",
   "execution_count": 13,
   "metadata": {
    "collapsed": false
   },
   "outputs": [
    {
     "data": {
      "image/png": "[encoded data removed]",
      "text/plain": [
       "<matplotlib.figure.Figure at 0x20ac8d59cf8>"
      ]
     },
     "metadata": {},
     "output_type": "display_data"
    },
    {
     "name": "stdout",
     "output_type": "stream",
     "text": [
      "Mean = 24.81636726546906\n",
      "Median = 24.0\n",
      "Mode = 22.0\n"
     ]
    }
   ],
   "source": [
    "# Plot box and whisker plot of 3rd class passengers\n",
    "ages_3.boxplot(column='Age',return_type='dict')\n",
    "title('Distribution of ages of 3rd class passengers')\n",
    "show()\n",
    "print('Mean =', ages_3['Age'].mean())\n",
    "print('Median =', ages_3['Age'].median())\n",
    "print('Mode =', ages_3['Age'].mode().values[0])"
   ]
  },
  {
   "cell_type": "code",
   "execution_count": 14,
   "metadata": {
    "collapsed": false
   },
   "outputs": [],
   "source": [
    "# We will choose the median age of each passenger class to fill in for any null age values in train dataset\n",
    "for i in range(len(train.index)):\n",
    "    if train.ix[[i]]['Pclass'].values[0] == 1 and isnan(train.ix[[i]]['Age'].values[0]):\n",
    "        train.set_value(i,'Age',ages_1['Age'].median())\n",
    "    elif train.ix[[i]]['Pclass'].values[0] == 2 and isnan(train.ix[[i]]['Age'].values[0]):\n",
    "        train.set_value(i,'Age',ages_2['Age'].median())\n",
    "    elif train.ix[[i]]['Pclass'].values[0] == 3 and isnan(train.ix[[i]]['Age'].values[0]):\n",
    "        train.set_value(i,'Age',ages_3['Age'].median())"
   ]
  },
  {
   "cell_type": "code",
   "execution_count": 15,
   "metadata": {
    "collapsed": true
   },
   "outputs": [],
   "source": [
    "# Again, choose median age of each passenger class to fill for null age values in test dataset\n",
    "for i in range(len(test.index)):\n",
    "    if test.ix[[i]]['Pclass'].values[0] == 1 and isnan(test.ix[[i]]['Age'].values[0]):\n",
    "        test.set_value(i,'Age',ages_1['Age'].median())\n",
    "    elif test.ix[[i]]['Pclass'].values[0] == 2 and isnan(test.ix[[i]]['Age'].values[0]):\n",
    "        test.set_value(i,'Age',ages_2['Age'].median())\n",
    "    elif test.ix[[i]]['Pclass'].values[0] == 3 and isnan(test.ix[[i]]['Age'].values[0]):\n",
    "        test.set_value(i,'Age',ages_3['Age'].median())"
   ]
  },
  {
   "cell_type": "code",
   "execution_count": 16,
   "metadata": {
    "collapsed": false
   },
   "outputs": [
    {
     "data": {
      "text/html": [
       "<div>\n",
       "<table border=\"1\" class=\"dataframe\">\n",
       "  <thead>\n",
       "    <tr style=\"text-align: right;\">\n",
       "      <th></th>\n",
       "      <th>Pclass</th>\n",
       "      <th>Name</th>\n",
       "      <th>Sex</th>\n",
       "      <th>Age</th>\n",
       "      <th>SibSp</th>\n",
       "      <th>Parch</th>\n",
       "      <th>Ticket</th>\n",
       "      <th>Fare</th>\n",
       "      <th>Embarked</th>\n",
       "    </tr>\n",
       "  </thead>\n",
       "  <tbody>\n",
       "    <tr>\n",
       "      <th>179</th>\n",
       "      <td>3</td>\n",
       "      <td>Leonard, Mr. Lionel</td>\n",
       "      <td>1</td>\n",
       "      <td>36.0</td>\n",
       "      <td>0</td>\n",
       "      <td>0</td>\n",
       "      <td>LINE</td>\n",
       "      <td>0.0</td>\n",
       "      <td>S</td>\n",
       "    </tr>\n",
       "    <tr>\n",
       "      <th>271</th>\n",
       "      <td>3</td>\n",
       "      <td>Tornquist, Mr. William Henry</td>\n",
       "      <td>1</td>\n",
       "      <td>25.0</td>\n",
       "      <td>0</td>\n",
       "      <td>0</td>\n",
       "      <td>LINE</td>\n",
       "      <td>0.0</td>\n",
       "      <td>S</td>\n",
       "    </tr>\n",
       "    <tr>\n",
       "      <th>302</th>\n",
       "      <td>3</td>\n",
       "      <td>Johnson, Mr. William Cahoone Jr</td>\n",
       "      <td>1</td>\n",
       "      <td>19.0</td>\n",
       "      <td>0</td>\n",
       "      <td>0</td>\n",
       "      <td>LINE</td>\n",
       "      <td>0.0</td>\n",
       "      <td>S</td>\n",
       "    </tr>\n",
       "    <tr>\n",
       "      <th>597</th>\n",
       "      <td>3</td>\n",
       "      <td>Johnson, Mr. Alfred</td>\n",
       "      <td>1</td>\n",
       "      <td>49.0</td>\n",
       "      <td>0</td>\n",
       "      <td>0</td>\n",
       "      <td>LINE</td>\n",
       "      <td>0.0</td>\n",
       "      <td>S</td>\n",
       "    </tr>\n",
       "  </tbody>\n",
       "</table>\n",
       "</div>"
      ],
      "text/plain": [
       "     Pclass                             Name  Sex   Age  SibSp  Parch Ticket  \\\n",
       "179       3              Leonard, Mr. Lionel    1  36.0      0      0   LINE   \n",
       "271       3     Tornquist, Mr. William Henry    1  25.0      0      0   LINE   \n",
       "302       3  Johnson, Mr. William Cahoone Jr    1  19.0      0      0   LINE   \n",
       "597       3              Johnson, Mr. Alfred    1  49.0      0      0   LINE   \n",
       "\n",
       "     Fare Embarked  \n",
       "179   0.0        S  \n",
       "271   0.0        S  \n",
       "302   0.0        S  \n",
       "597   0.0        S  "
      ]
     },
     "execution_count": 16,
     "metadata": {},
     "output_type": "execute_result"
    }
   ],
   "source": [
    "# Now we proceed to clean up ticket data to show only numeric data\n",
    "# However, there are some entries in the train dataset that do not have any numeric data (see below)\n",
    "train[train['Ticket'] == 'LINE']"
   ]
  },
  {
   "cell_type": "code",
   "execution_count": 17,
   "metadata": {
    "collapsed": false
   },
   "outputs": [],
   "source": [
    "# Let's first clean up the ticket column in the test dataset\n",
    "test['Ticket'] = test['Ticket'].apply(lambda x: x.split(\" \")[2] if len(x.split(\" \")) == 3 else x)\n",
    "test['Ticket'] = test['Ticket'].apply(lambda x: x.split(\" \")[1] if len(x.split(\" \")) == 2 else x)\n",
    "test['Ticket'] = test['Ticket'].apply(lambda x: int(x))"
   ]
  },
  {
   "cell_type": "code",
   "execution_count": 18,
   "metadata": {
    "collapsed": false
   },
   "outputs": [],
   "source": [
    "# Now, let's proceed with the train dataset and map all \"LINE\" entries to -1\n",
    "train['Ticket'] = train['Ticket'].apply(lambda x: x.split(\" \")[2] if len(x.split(\" \")) == 3 else x)\n",
    "train['Ticket'] = train['Ticket'].apply(lambda x: x.split(\" \")[1] if len(x.split(\" \")) == 2 else x)\n",
    "train['Ticket'] = train['Ticket'].apply(lambda x: int(x) if x[0].isnumeric() else -1)"
   ]
  },
  {
   "cell_type": "code",
   "execution_count": 19,
   "metadata": {
    "collapsed": false,
    "scrolled": true
   },
   "outputs": [],
   "source": [
    "# The entries that contained \"LINE\" are all in 3rd class, so let's plot a histogram \n",
    "# and box and whisker plot to determine what is the typical ticket and fare for those people\n",
    "ticket_3 = train[(train['Pclass'] == 3) & (train['Ticket'] > 0)]"
   ]
  },
  {
   "cell_type": "code",
   "execution_count": 20,
   "metadata": {
    "collapsed": false
   },
   "outputs": [
    {
     "data": {
      "image/png": "[encoded data removed]",
      "text/plain": [
       "<matplotlib.figure.Figure at 0x20ac8e22400>"
      ]
     },
     "metadata": {},
     "output_type": "display_data"
    }
   ],
   "source": [
    "# Histogram of ticket numbers\n",
    "ticket_3['Ticket'].hist(figsize=(5,5))\n",
    "xlabel('Ticket Number')\n",
    "ylabel('Count')\n",
    "title('Histogram of 3rd class ticket numbers')\n",
    "show()"
   ]
  },
  {
   "cell_type": "code",
   "execution_count": 21,
   "metadata": {
    "collapsed": false
   },
   "outputs": [
    {
     "data": {
      "image/png": "[encoded data removed]",
      "text/plain": [
       "<matplotlib.figure.Figure at 0x20ac8d872b0>"
      ]
     },
     "metadata": {},
     "output_type": "display_data"
    },
    {
     "name": "stdout",
     "output_type": "stream",
     "text": [
      "Mean = 474654.6755646817\n",
      "Median = 347061.0\n",
      "Mode = 1601\n"
     ]
    }
   ],
   "source": [
    "# Box and whisker plot of ticket numbers\n",
    "ticket_3.boxplot(column='Ticket',return_type='dict')\n",
    "title('Distribution of 3rd class ticket numbers')\n",
    "show()\n",
    "print('Mean =', ticket_3['Ticket'].mean())\n",
    "print('Median =', ticket_3['Ticket'].median())\n",
    "print('Mode =', ticket_3['Ticket'].mode().values[0])"
   ]
  },
  {
   "cell_type": "code",
   "execution_count": 22,
   "metadata": {
    "collapsed": false
   },
   "outputs": [
    {
     "data": {
      "image/png": "[encoded data removed]",
      "text/plain": [
       "<matplotlib.figure.Figure at 0x20ac7bf1d30>"
      ]
     },
     "metadata": {},
     "output_type": "display_data"
    },
    {
     "name": "stdout",
     "output_type": "stream",
     "text": [
      "Mean = 13.787874948665301\n",
      "Median = 8.05\n",
      "Mode = 8.05\n"
     ]
    }
   ],
   "source": [
    "# Box and whisker plot of corresponding fares\n",
    "ticket_3.boxplot(column='Fare',return_type='dict')\n",
    "title('Distribution of 3rd class fares')\n",
    "show()\n",
    "print('Mean =', ticket_3['Fare'].mean())\n",
    "print('Median =', ticket_3['Fare'].median())\n",
    "print('Mode =', ticket_3['Fare'].mode().values[0])"
   ]
  },
  {
   "cell_type": "code",
   "execution_count": 23,
   "metadata": {
    "collapsed": true
   },
   "outputs": [],
   "source": [
    "# We will replace the ticket numbers and fares for each \"LINE\" entry with\n",
    "# the median values from the above series\n",
    "for i in range(len(train.index)):\n",
    "    if train.ix[[i]]['Ticket'].values[0] == -1:\n",
    "        train.set_value(i,'Ticket',ticket_3['Ticket'].median())\n",
    "        train.set_value(i,'Fare',ticket_3['Fare'].median())"
   ]
  },
  {
   "cell_type": "code",
   "execution_count": 24,
   "metadata": {
    "collapsed": false
   },
   "outputs": [
    {
     "data": {
      "text/html": [
       "<div>\n",
       "<table border=\"1\" class=\"dataframe\">\n",
       "  <thead>\n",
       "    <tr style=\"text-align: right;\">\n",
       "      <th></th>\n",
       "      <th>Pclass</th>\n",
       "      <th>Name</th>\n",
       "      <th>Sex</th>\n",
       "      <th>Age</th>\n",
       "      <th>SibSp</th>\n",
       "      <th>Parch</th>\n",
       "      <th>Ticket</th>\n",
       "      <th>Fare</th>\n",
       "      <th>Embarked</th>\n",
       "    </tr>\n",
       "  </thead>\n",
       "  <tbody>\n",
       "    <tr>\n",
       "      <th>0</th>\n",
       "      <td>3</td>\n",
       "      <td>Kelly, Mr. James</td>\n",
       "      <td>1</td>\n",
       "      <td>34.5</td>\n",
       "      <td>0</td>\n",
       "      <td>0</td>\n",
       "      <td>330911</td>\n",
       "      <td>7.8292</td>\n",
       "      <td>Q</td>\n",
       "    </tr>\n",
       "    <tr>\n",
       "      <th>1</th>\n",
       "      <td>3</td>\n",
       "      <td>Wilkes, Mrs. James (Ellen Needs)</td>\n",
       "      <td>0</td>\n",
       "      <td>47.0</td>\n",
       "      <td>1</td>\n",
       "      <td>0</td>\n",
       "      <td>363272</td>\n",
       "      <td>7.0000</td>\n",
       "      <td>S</td>\n",
       "    </tr>\n",
       "    <tr>\n",
       "      <th>2</th>\n",
       "      <td>2</td>\n",
       "      <td>Myles, Mr. Thomas Francis</td>\n",
       "      <td>1</td>\n",
       "      <td>62.0</td>\n",
       "      <td>0</td>\n",
       "      <td>0</td>\n",
       "      <td>240276</td>\n",
       "      <td>9.6875</td>\n",
       "      <td>Q</td>\n",
       "    </tr>\n",
       "    <tr>\n",
       "      <th>3</th>\n",
       "      <td>3</td>\n",
       "      <td>Wirz, Mr. Albert</td>\n",
       "      <td>1</td>\n",
       "      <td>27.0</td>\n",
       "      <td>0</td>\n",
       "      <td>0</td>\n",
       "      <td>315154</td>\n",
       "      <td>8.6625</td>\n",
       "      <td>S</td>\n",
       "    </tr>\n",
       "    <tr>\n",
       "      <th>4</th>\n",
       "      <td>3</td>\n",
       "      <td>Hirvonen, Mrs. Alexander (Helga E Lindqvist)</td>\n",
       "      <td>0</td>\n",
       "      <td>22.0</td>\n",
       "      <td>1</td>\n",
       "      <td>1</td>\n",
       "      <td>3101298</td>\n",
       "      <td>12.2875</td>\n",
       "      <td>S</td>\n",
       "    </tr>\n",
       "    <tr>\n",
       "      <th>5</th>\n",
       "      <td>3</td>\n",
       "      <td>Svensson, Mr. Johan Cervin</td>\n",
       "      <td>1</td>\n",
       "      <td>14.0</td>\n",
       "      <td>0</td>\n",
       "      <td>0</td>\n",
       "      <td>7538</td>\n",
       "      <td>9.2250</td>\n",
       "      <td>S</td>\n",
       "    </tr>\n",
       "    <tr>\n",
       "      <th>6</th>\n",
       "      <td>3</td>\n",
       "      <td>Connolly, Miss. Kate</td>\n",
       "      <td>0</td>\n",
       "      <td>30.0</td>\n",
       "      <td>0</td>\n",
       "      <td>0</td>\n",
       "      <td>330972</td>\n",
       "      <td>7.6292</td>\n",
       "      <td>Q</td>\n",
       "    </tr>\n",
       "    <tr>\n",
       "      <th>7</th>\n",
       "      <td>2</td>\n",
       "      <td>Caldwell, Mr. Albert Francis</td>\n",
       "      <td>1</td>\n",
       "      <td>26.0</td>\n",
       "      <td>1</td>\n",
       "      <td>1</td>\n",
       "      <td>248738</td>\n",
       "      <td>29.0000</td>\n",
       "      <td>S</td>\n",
       "    </tr>\n",
       "    <tr>\n",
       "      <th>8</th>\n",
       "      <td>3</td>\n",
       "      <td>Abrahim, Mrs. Joseph (Sophie Halaut Easu)</td>\n",
       "      <td>0</td>\n",
       "      <td>18.0</td>\n",
       "      <td>0</td>\n",
       "      <td>0</td>\n",
       "      <td>2657</td>\n",
       "      <td>7.2292</td>\n",
       "      <td>C</td>\n",
       "    </tr>\n",
       "    <tr>\n",
       "      <th>9</th>\n",
       "      <td>3</td>\n",
       "      <td>Davies, Mr. John Samuel</td>\n",
       "      <td>1</td>\n",
       "      <td>21.0</td>\n",
       "      <td>2</td>\n",
       "      <td>0</td>\n",
       "      <td>48871</td>\n",
       "      <td>24.1500</td>\n",
       "      <td>S</td>\n",
       "    </tr>\n",
       "  </tbody>\n",
       "</table>\n",
       "</div>"
      ],
      "text/plain": [
       "   Pclass                                          Name  Sex   Age  SibSp  \\\n",
       "0       3                              Kelly, Mr. James    1  34.5      0   \n",
       "1       3              Wilkes, Mrs. James (Ellen Needs)    0  47.0      1   \n",
       "2       2                     Myles, Mr. Thomas Francis    1  62.0      0   \n",
       "3       3                              Wirz, Mr. Albert    1  27.0      0   \n",
       "4       3  Hirvonen, Mrs. Alexander (Helga E Lindqvist)    0  22.0      1   \n",
       "5       3                    Svensson, Mr. Johan Cervin    1  14.0      0   \n",
       "6       3                          Connolly, Miss. Kate    0  30.0      0   \n",
       "7       2                  Caldwell, Mr. Albert Francis    1  26.0      1   \n",
       "8       3     Abrahim, Mrs. Joseph (Sophie Halaut Easu)    0  18.0      0   \n",
       "9       3                       Davies, Mr. John Samuel    1  21.0      2   \n",
       "\n",
       "   Parch   Ticket     Fare Embarked  \n",
       "0      0   330911   7.8292        Q  \n",
       "1      0   363272   7.0000        S  \n",
       "2      0   240276   9.6875        Q  \n",
       "3      0   315154   8.6625        S  \n",
       "4      1  3101298  12.2875        S  \n",
       "5      0     7538   9.2250        S  \n",
       "6      0   330972   7.6292        Q  \n",
       "7      1   248738  29.0000        S  \n",
       "8      0     2657   7.2292        C  \n",
       "9      0    48871  24.1500        S  "
      ]
     },
     "execution_count": 24,
     "metadata": {},
     "output_type": "execute_result"
    }
   ],
   "source": [
    "# There is one missing fare value in the test dataset for one of the 3rd class\n",
    "# passengers. We use the median 3rd class fare to fill in the value.\n",
    "test.set_value(152,'Fare',ticket_3['Fare'].median())\n",
    "test.head(10)"
   ]
  },
  {
   "cell_type": "code",
   "execution_count": 25,
   "metadata": {
    "collapsed": false
   },
   "outputs": [
    {
     "data": {
      "image/png": "[encoded data removed]",
      "text/plain": [
       "<matplotlib.figure.Figure at 0x20ac7787a20>"
      ]
     },
     "metadata": {},
     "output_type": "display_data"
    }
   ],
   "source": [
    "# The final task is to fill in missing values for the \"Embarked\" categorical variable.\n",
    "# We will do this by investigating the departure locations for 1st, 2nd, and 3rd class passengers\n",
    "full[(pd.notnull(full['Embarked'])) & (full['Pclass'] == 1)]['Embarked'].value_counts().plot(kind='bar')\n",
    "xlabel('Departure Destination')\n",
    "ylabel('Count')\n",
    "title('Departures locations for 1st class passengers')\n",
    "show()"
   ]
  },
  {
   "cell_type": "code",
   "execution_count": 26,
   "metadata": {
    "collapsed": false
   },
   "outputs": [
    {
     "data": {
      "image/png": "[encoded data removed]",
      "text/plain": [
       "<matplotlib.figure.Figure at 0x20ac77b8748>"
      ]
     },
     "metadata": {},
     "output_type": "display_data"
    }
   ],
   "source": [
    "# Second class passenger departure destinations\n",
    "full[(pd.notnull(full['Embarked'])) & (full['Pclass'] == 2)]['Embarked'].value_counts().plot(kind='bar', colormap='Purples_r')\n",
    "xlabel('Departure Destination')\n",
    "ylabel('Count')\n",
    "title('Departures locations for 2nd class passengers')\n",
    "show()"
   ]
  },
  {
   "cell_type": "code",
   "execution_count": 27,
   "metadata": {
    "collapsed": false
   },
   "outputs": [
    {
     "data": {
      "image/png": "[encoded data removed]",
      "text/plain": [
       "<matplotlib.figure.Figure at 0x20ac8d42ac8>"
      ]
     },
     "metadata": {},
     "output_type": "display_data"
    }
   ],
   "source": [
    "# Third class passenger departure destinations\n",
    "full[(pd.notnull(full['Embarked'])) & (full['Pclass'] == 3)]['Embarked'].value_counts().plot(kind='bar', colormap='ocean')\n",
    "xlabel('Departure Destination')\n",
    "ylabel('Count')\n",
    "title('Departures locations for 3rd class passengers')\n",
    "show()"
   ]
  },
  {
   "cell_type": "code",
   "execution_count": 28,
   "metadata": {
    "collapsed": false
   },
   "outputs": [
    {
     "data": {
      "text/html": [
       "<div>\n",
       "<table border=\"1\" class=\"dataframe\">\n",
       "  <thead>\n",
       "    <tr style=\"text-align: right;\">\n",
       "      <th></th>\n",
       "      <th>Pclass</th>\n",
       "      <th>Name</th>\n",
       "      <th>Sex</th>\n",
       "      <th>Age</th>\n",
       "      <th>SibSp</th>\n",
       "      <th>Parch</th>\n",
       "      <th>Ticket</th>\n",
       "      <th>Fare</th>\n",
       "      <th>Embarked</th>\n",
       "    </tr>\n",
       "  </thead>\n",
       "  <tbody>\n",
       "    <tr>\n",
       "      <th>61</th>\n",
       "      <td>1</td>\n",
       "      <td>Icard, Miss. Amelie</td>\n",
       "      <td>0</td>\n",
       "      <td>38.0</td>\n",
       "      <td>0</td>\n",
       "      <td>0</td>\n",
       "      <td>113572</td>\n",
       "      <td>80.0</td>\n",
       "      <td>NaN</td>\n",
       "    </tr>\n",
       "    <tr>\n",
       "      <th>829</th>\n",
       "      <td>1</td>\n",
       "      <td>Stone, Mrs. George Nelson (Martha Evelyn)</td>\n",
       "      <td>0</td>\n",
       "      <td>62.0</td>\n",
       "      <td>0</td>\n",
       "      <td>0</td>\n",
       "      <td>113572</td>\n",
       "      <td>80.0</td>\n",
       "      <td>NaN</td>\n",
       "    </tr>\n",
       "  </tbody>\n",
       "</table>\n",
       "</div>"
      ],
      "text/plain": [
       "     Pclass                                       Name  Sex   Age  SibSp  \\\n",
       "61        1                        Icard, Miss. Amelie    0  38.0      0   \n",
       "829       1  Stone, Mrs. George Nelson (Martha Evelyn)    0  62.0      0   \n",
       "\n",
       "     Parch  Ticket  Fare Embarked  \n",
       "61       0  113572  80.0      NaN  \n",
       "829      0  113572  80.0      NaN  "
      ]
     },
     "execution_count": 28,
     "metadata": {},
     "output_type": "execute_result"
    }
   ],
   "source": [
    "# Notice that the entries with missing \"Embarked\" values are all in first class\n",
    "full[pd.isnull(full['Embarked'])]"
   ]
  },
  {
   "cell_type": "code",
   "execution_count": 29,
   "metadata": {
    "collapsed": false
   },
   "outputs": [
    {
     "name": "stdout",
     "output_type": "stream",
     "text": [
      "['S' 'S']\n"
     ]
    }
   ],
   "source": [
    "# We will generate a random \"Embarked\" value according to the 1st class departure distribution above\n",
    "randEmbarked = full[(pd.notnull(full['Embarked'])) & (full['Pclass'] == 1)]['Embarked'].sample(n=2).values\n",
    "print(randEmbarked)"
   ]
  },
  {
   "cell_type": "code",
   "execution_count": 30,
   "metadata": {
    "collapsed": false
   },
   "outputs": [
    {
     "data": {
      "text/html": [
       "<div>\n",
       "<table border=\"1\" class=\"dataframe\">\n",
       "  <thead>\n",
       "    <tr style=\"text-align: right;\">\n",
       "      <th></th>\n",
       "      <th>Pclass</th>\n",
       "      <th>Name</th>\n",
       "      <th>Sex</th>\n",
       "      <th>Age</th>\n",
       "      <th>SibSp</th>\n",
       "      <th>Parch</th>\n",
       "      <th>Ticket</th>\n",
       "      <th>Fare</th>\n",
       "      <th>Embarked</th>\n",
       "    </tr>\n",
       "  </thead>\n",
       "  <tbody>\n",
       "    <tr>\n",
       "      <th>0</th>\n",
       "      <td>3</td>\n",
       "      <td>Braund, Mr. Owen Harris</td>\n",
       "      <td>1</td>\n",
       "      <td>22.0</td>\n",
       "      <td>1</td>\n",
       "      <td>0</td>\n",
       "      <td>21171</td>\n",
       "      <td>7.2500</td>\n",
       "      <td>S</td>\n",
       "    </tr>\n",
       "    <tr>\n",
       "      <th>1</th>\n",
       "      <td>1</td>\n",
       "      <td>Cumings, Mrs. John Bradley (Florence Briggs Th...</td>\n",
       "      <td>0</td>\n",
       "      <td>38.0</td>\n",
       "      <td>1</td>\n",
       "      <td>0</td>\n",
       "      <td>17599</td>\n",
       "      <td>71.2833</td>\n",
       "      <td>C</td>\n",
       "    </tr>\n",
       "    <tr>\n",
       "      <th>2</th>\n",
       "      <td>3</td>\n",
       "      <td>Heikkinen, Miss. Laina</td>\n",
       "      <td>0</td>\n",
       "      <td>26.0</td>\n",
       "      <td>0</td>\n",
       "      <td>0</td>\n",
       "      <td>3101282</td>\n",
       "      <td>7.9250</td>\n",
       "      <td>S</td>\n",
       "    </tr>\n",
       "    <tr>\n",
       "      <th>3</th>\n",
       "      <td>1</td>\n",
       "      <td>Futrelle, Mrs. Jacques Heath (Lily May Peel)</td>\n",
       "      <td>0</td>\n",
       "      <td>35.0</td>\n",
       "      <td>1</td>\n",
       "      <td>0</td>\n",
       "      <td>113803</td>\n",
       "      <td>53.1000</td>\n",
       "      <td>S</td>\n",
       "    </tr>\n",
       "    <tr>\n",
       "      <th>4</th>\n",
       "      <td>3</td>\n",
       "      <td>Allen, Mr. William Henry</td>\n",
       "      <td>1</td>\n",
       "      <td>35.0</td>\n",
       "      <td>0</td>\n",
       "      <td>0</td>\n",
       "      <td>373450</td>\n",
       "      <td>8.0500</td>\n",
       "      <td>S</td>\n",
       "    </tr>\n",
       "    <tr>\n",
       "      <th>5</th>\n",
       "      <td>3</td>\n",
       "      <td>Moran, Mr. James</td>\n",
       "      <td>1</td>\n",
       "      <td>24.0</td>\n",
       "      <td>0</td>\n",
       "      <td>0</td>\n",
       "      <td>330877</td>\n",
       "      <td>8.4583</td>\n",
       "      <td>Q</td>\n",
       "    </tr>\n",
       "    <tr>\n",
       "      <th>6</th>\n",
       "      <td>1</td>\n",
       "      <td>McCarthy, Mr. Timothy J</td>\n",
       "      <td>1</td>\n",
       "      <td>54.0</td>\n",
       "      <td>0</td>\n",
       "      <td>0</td>\n",
       "      <td>17463</td>\n",
       "      <td>51.8625</td>\n",
       "      <td>S</td>\n",
       "    </tr>\n",
       "    <tr>\n",
       "      <th>7</th>\n",
       "      <td>3</td>\n",
       "      <td>Palsson, Master. Gosta Leonard</td>\n",
       "      <td>1</td>\n",
       "      <td>2.0</td>\n",
       "      <td>3</td>\n",
       "      <td>1</td>\n",
       "      <td>349909</td>\n",
       "      <td>21.0750</td>\n",
       "      <td>S</td>\n",
       "    </tr>\n",
       "    <tr>\n",
       "      <th>8</th>\n",
       "      <td>3</td>\n",
       "      <td>Johnson, Mrs. Oscar W (Elisabeth Vilhelmina Berg)</td>\n",
       "      <td>0</td>\n",
       "      <td>27.0</td>\n",
       "      <td>0</td>\n",
       "      <td>2</td>\n",
       "      <td>347742</td>\n",
       "      <td>11.1333</td>\n",
       "      <td>S</td>\n",
       "    </tr>\n",
       "    <tr>\n",
       "      <th>9</th>\n",
       "      <td>2</td>\n",
       "      <td>Nasser, Mrs. Nicholas (Adele Achem)</td>\n",
       "      <td>0</td>\n",
       "      <td>14.0</td>\n",
       "      <td>1</td>\n",
       "      <td>0</td>\n",
       "      <td>237736</td>\n",
       "      <td>30.0708</td>\n",
       "      <td>C</td>\n",
       "    </tr>\n",
       "  </tbody>\n",
       "</table>\n",
       "</div>"
      ],
      "text/plain": [
       "   Pclass                                               Name  Sex   Age  \\\n",
       "0       3                            Braund, Mr. Owen Harris    1  22.0   \n",
       "1       1  Cumings, Mrs. John Bradley (Florence Briggs Th...    0  38.0   \n",
       "2       3                             Heikkinen, Miss. Laina    0  26.0   \n",
       "3       1       Futrelle, Mrs. Jacques Heath (Lily May Peel)    0  35.0   \n",
       "4       3                           Allen, Mr. William Henry    1  35.0   \n",
       "5       3                                   Moran, Mr. James    1  24.0   \n",
       "6       1                            McCarthy, Mr. Timothy J    1  54.0   \n",
       "7       3                     Palsson, Master. Gosta Leonard    1   2.0   \n",
       "8       3  Johnson, Mrs. Oscar W (Elisabeth Vilhelmina Berg)    0  27.0   \n",
       "9       2                Nasser, Mrs. Nicholas (Adele Achem)    0  14.0   \n",
       "\n",
       "   SibSp  Parch   Ticket     Fare Embarked  \n",
       "0      1      0    21171   7.2500        S  \n",
       "1      1      0    17599  71.2833        C  \n",
       "2      0      0  3101282   7.9250        S  \n",
       "3      1      0   113803  53.1000        S  \n",
       "4      0      0   373450   8.0500        S  \n",
       "5      0      0   330877   8.4583        Q  \n",
       "6      0      0    17463  51.8625        S  \n",
       "7      3      1   349909  21.0750        S  \n",
       "8      0      2   347742  11.1333        S  \n",
       "9      1      0   237736  30.0708        C  "
      ]
     },
     "execution_count": 30,
     "metadata": {},
     "output_type": "execute_result"
    }
   ],
   "source": [
    "# Set the null \"Embarked\" values to the randomly chosen ones above\n",
    "train.set_value(61,'Embarked',randEmbarked[0])\n",
    "train.set_value(829,'Embarked',randEmbarked[1])\n",
    "train.head(10)"
   ]
  },
  {
   "cell_type": "code",
   "execution_count": 31,
   "metadata": {
    "collapsed": false
   },
   "outputs": [],
   "source": [
    "# One-hot encode the \"Embarked\" categorical variable\n",
    "# Train dataset\n",
    "EmbarkedOneHot_train = pd.get_dummies(train['Embarked'])\n",
    "train = train.drop('Embarked', axis=1)\n",
    "train = pd.concat([train, EmbarkedOneHot_train], axis=1)\n",
    "# Test dataset\n",
    "EmbarkedOneHot_test = pd.get_dummies(test['Embarked'])\n",
    "test = test.drop('Embarked',axis=1)\n",
    "test = pd.concat([test, EmbarkedOneHot_test], axis=1)"
   ]
  },
  {
   "cell_type": "code",
   "execution_count": 32,
   "metadata": {
    "collapsed": false
   },
   "outputs": [
    {
     "data": {
      "text/plain": [
       " Mr          517\n",
       " Miss        182\n",
       " Mrs         125\n",
       " Master       40\n",
       " Dr            7\n",
       " Rev           6\n",
       " Col           2\n",
       " Major         2\n",
       " Mlle          2\n",
       " Ms            1\n",
       " Jonkheer      1\n",
       " Capt          1\n",
       " Lady          1\n",
       " Sir           1\n",
       " Mme           1\n",
       " Don           1\n",
       "Countess       1\n",
       "Name: Name, dtype: int64"
      ]
     },
     "execution_count": 32,
     "metadata": {},
     "output_type": "execute_result"
    }
   ],
   "source": [
    "# Finally, let us extract a useful feature from the \"Name\" variable\n",
    "# This useful feature will be the title (\"Mr.\", \"Mrs.\", etc.) of the person.\n",
    "# This will yield a categorical variable that can be one-hot encoded.\n",
    "\n",
    "# Extract only the title of each passenger\n",
    "train['Name'] = train['Name'].apply(lambda x: x.split(\",\")[1])\n",
    "train['Name'] = train['Name'].apply(lambda x: x.split(\".\")[0])\n",
    "train['Name'] = train['Name'].apply(lambda x: x.split(\" \")[2] if len(x.split(\" \")) > 2 else x)\n",
    "\n",
    "# Examine the number of each title\n",
    "train['Name'].value_counts()"
   ]
  },
  {
   "cell_type": "code",
   "execution_count": 33,
   "metadata": {
    "collapsed": false
   },
   "outputs": [
    {
     "data": {
      "text/plain": [
       " Mr        517\n",
       " Miss      186\n",
       " Mrs       125\n",
       " Master     40\n",
       " Rare       23\n",
       "Name: Name, dtype: int64"
      ]
     },
     "execution_count": 33,
     "metadata": {},
     "output_type": "execute_result"
    }
   ],
   "source": [
    "# We will map all equivalent \"Miss\" titles together and we will lump all rare titles into label \"Rare\"\n",
    "train['Name'] = train['Name'].replace(['Mme','Ms','Mlle'],['Miss','Miss','Miss'],regex=True)\n",
    "rare_titles = ['Dr','Rev','Col','Major','Sir','Countess','Lady','Jonkheer','Don','Capt']\n",
    "rare = ['Rare','Rare','Rare','Rare','Rare',' Rare','Rare','Rare','Rare','Rare']\n",
    "train['Name'] = train['Name'].replace(rare_titles,rare,regex=True)\n",
    "train['Name'].value_counts()"
   ]
  },
  {
   "cell_type": "code",
   "execution_count": 34,
   "metadata": {
    "collapsed": false
   },
   "outputs": [],
   "source": [
    "# One-hot encode the \"Name\" categorical variable\n",
    "NameOneHot_train = pd.get_dummies(train['Name'])\n",
    "train = train.drop('Name', axis=1)\n",
    "train = pd.concat([train, NameOneHot_train], axis=1)"
   ]
  },
  {
   "cell_type": "code",
   "execution_count": 35,
   "metadata": {
    "collapsed": false
   },
   "outputs": [
    {
     "data": {
      "text/plain": [
       " Mr        240\n",
       " Miss       78\n",
       " Mrs        72\n",
       " Master     21\n",
       " Rev         2\n",
       " Col         2\n",
       " Ms          1\n",
       " Dr          1\n",
       " Dona        1\n",
       "Name: Name, dtype: int64"
      ]
     },
     "execution_count": 35,
     "metadata": {},
     "output_type": "execute_result"
    }
   ],
   "source": [
    "# Perform the same \"Name\" modifications to the test dataset\n",
    "# Extract only the title of each passenger\n",
    "test['Name'] = test['Name'].apply(lambda x: x.split(\",\")[1])\n",
    "test['Name'] = test['Name'].apply(lambda x: x.split(\".\")[0])\n",
    "test['Name'] = test['Name'].apply(lambda x: x.split(\" \")[2] if len(x.split(\" \")) > 2 else x)\n",
    "\n",
    "# Examine the number of each title\n",
    "test['Name'].value_counts()"
   ]
  },
  {
   "cell_type": "code",
   "execution_count": 36,
   "metadata": {
    "collapsed": false
   },
   "outputs": [
    {
     "data": {
      "text/plain": [
       " Mr        240\n",
       " Miss       79\n",
       " Mrs        72\n",
       " Master     21\n",
       " Rare        6\n",
       "Name: Name, dtype: int64"
      ]
     },
     "execution_count": 36,
     "metadata": {},
     "output_type": "execute_result"
    }
   ],
   "source": [
    "# We will map all equivalent \"Miss\" titles together and we will lump all rare titles into label \"Rare\"\n",
    "test['Name'] = test['Name'].replace(['Ms'],['Miss'],regex=True)\n",
    "rare_titles = ['Dr','Dona','Col','Rev']\n",
    "rare = ['Rare','Rare','Rare','Rare']\n",
    "test['Name'] = test['Name'].replace(rare_titles,rare,regex=True)\n",
    "test['Name'].value_counts()"
   ]
  },
  {
   "cell_type": "code",
   "execution_count": 37,
   "metadata": {
    "collapsed": true
   },
   "outputs": [],
   "source": [
    "# One-hot encode the \"Name\" categorical variable in the test dataset\n",
    "NameOneHot_test = pd.get_dummies(test['Name'])\n",
    "test = test.drop('Name', axis=1)\n",
    "test = pd.concat([test, NameOneHot_test], axis=1)"
   ]
  },
  {
   "cell_type": "code",
   "execution_count": 38,
   "metadata": {
    "collapsed": false
   },
   "outputs": [
    {
     "data": {
      "text/plain": [
       "LogisticRegression(C=1, class_weight=None, dual=False, fit_intercept=True,\n",
       "          intercept_scaling=1, max_iter=100, multi_class='ovr', n_jobs=1,\n",
       "          penalty='l1', random_state=None, solver='liblinear', tol=0.0001,\n",
       "          verbose=0, warm_start=False)"
      ]
     },
     "execution_count": 38,
     "metadata": {},
     "output_type": "execute_result"
    }
   ],
   "source": [
    "# Both datasets have been wrangled and cleaned. They are ready to be fed into\n",
    "# a machine learning algorithm to determine test data survivorship. We will use\n",
    "# logistic regression because this is a classification problem (survive or die)\n",
    "\n",
    "## Split Training Data\n",
    "from sklearn.cross_validation import train_test_split\n",
    "\n",
    "num_test = 0.1  # Use 10% for cross-validation\n",
    "X_train, X_test, y_train, y_test = train_test_split(train, train_labels, test_size=num_test, random_state=24)\n",
    "\n",
    "# Apply logistic regression\n",
    "from sklearn import linear_model\n",
    "logreg = linear_model.LogisticRegression(C=1,penalty='l1')\n",
    "logreg.fit(X_train, y_train)"
   ]
  },
  {
   "cell_type": "code",
   "execution_count": 40,
   "metadata": {
    "collapsed": false
   },
   "outputs": [
    {
     "data": {
      "text/html": [
       "<div>\n",
       "<table border=\"1\" class=\"dataframe\">\n",
       "  <thead>\n",
       "    <tr style=\"text-align: right;\">\n",
       "      <th></th>\n",
       "      <th>Survived</th>\n",
       "      <th>Survived (Pred)</th>\n",
       "    </tr>\n",
       "  </thead>\n",
       "  <tbody>\n",
       "    <tr>\n",
       "      <th>169</th>\n",
       "      <td>0</td>\n",
       "      <td>0</td>\n",
       "    </tr>\n",
       "    <tr>\n",
       "      <th>556</th>\n",
       "      <td>1</td>\n",
       "      <td>0</td>\n",
       "    </tr>\n",
       "    <tr>\n",
       "      <th>206</th>\n",
       "      <td>0</td>\n",
       "      <td>0</td>\n",
       "    </tr>\n",
       "    <tr>\n",
       "      <th>71</th>\n",
       "      <td>0</td>\n",
       "      <td>0</td>\n",
       "    </tr>\n",
       "    <tr>\n",
       "      <th>677</th>\n",
       "      <td>1</td>\n",
       "      <td>1</td>\n",
       "    </tr>\n",
       "    <tr>\n",
       "      <th>839</th>\n",
       "      <td>1</td>\n",
       "      <td>0</td>\n",
       "    </tr>\n",
       "    <tr>\n",
       "      <th>835</th>\n",
       "      <td>1</td>\n",
       "      <td>1</td>\n",
       "    </tr>\n",
       "    <tr>\n",
       "      <th>261</th>\n",
       "      <td>1</td>\n",
       "      <td>0</td>\n",
       "    </tr>\n",
       "    <tr>\n",
       "      <th>179</th>\n",
       "      <td>0</td>\n",
       "      <td>0</td>\n",
       "    </tr>\n",
       "    <tr>\n",
       "      <th>282</th>\n",
       "      <td>0</td>\n",
       "      <td>0</td>\n",
       "    </tr>\n",
       "  </tbody>\n",
       "</table>\n",
       "</div>"
      ],
      "text/plain": [
       "     Survived  Survived (Pred)\n",
       "169         0                0\n",
       "556         1                0\n",
       "206         0                0\n",
       "71          0                0\n",
       "677         1                1\n",
       "839         1                0\n",
       "835         1                1\n",
       "261         1                0\n",
       "179         0                0\n",
       "282         0                0"
      ]
     },
     "execution_count": 40,
     "metadata": {},
     "output_type": "execute_result"
    }
   ],
   "source": [
    "# Visualize actual and predicted survivorship from logistic model\n",
    "actual = pd.DataFrame(y_test)\n",
    "actual_indices = actual.index.values\n",
    "predicted = pd.DataFrame(logreg.predict(X_test),columns=['Survived (Pred)'])\n",
    "predicted = predicted.set_index(actual_indices)\n",
    "cmpActPred = pd.concat([actual,predicted],axis=1)\n",
    "cmpActPred.head(10)"
   ]
  },
  {
   "cell_type": "code",
   "execution_count": 41,
   "metadata": {
    "collapsed": false
   },
   "outputs": [
    {
     "name": "stdout",
     "output_type": "stream",
     "text": [
      "Area under ROC 0.8500797448165869\n"
     ]
    }
   ],
   "source": [
    "# Compute ROC area under curve (AOC)\n",
    "from sklearn.metrics import accuracy_score, roc_auc_score\n",
    "preds = logreg.predict(X_test)\n",
    "score = roc_auc_score(y_test, preds)\n",
    "print(\"Area under ROC {0}\".format(score))"
   ]
  },
  {
   "cell_type": "code",
   "execution_count": 42,
   "metadata": {
    "collapsed": false
   },
   "outputs": [],
   "source": [
    "# Test Set Predictions\n",
    "test_preds = logreg.predict(test)\n",
    "\n",
    "# Format for submission\n",
    "output = pd.DataFrame({ 'PassengerId' : test_indices, 'Survived': test_preds })\n",
    "output.head()\n",
    "output.to_csv('logisticRegPred.csv', index = False)"
   ]
  },
  {
   "cell_type": "code",
   "execution_count": 43,
   "metadata": {
    "collapsed": false
   },
   "outputs": [
    {
     "data": {
      "text/plain": [
       "RandomForestClassifier(bootstrap=True, class_weight=None, criterion='gini',\n",
       "            max_depth=None, max_features='auto', max_leaf_nodes=None,\n",
       "            min_samples_leaf=1, min_samples_split=2,\n",
       "            min_weight_fraction_leaf=0.0, n_estimators=2000, n_jobs=-1,\n",
       "            oob_score=False, random_state=None, verbose=0,\n",
       "            warm_start=False)"
      ]
     },
     "execution_count": 43,
     "metadata": {},
     "output_type": "execute_result"
    }
   ],
   "source": [
    "# Let's repeat the above steps using a random forest classifier\n",
    "from sklearn.ensemble import RandomForestClassifier\n",
    "from sklearn.grid_search import GridSearchCV\n",
    "clf = RandomForestClassifier(n_estimators=2000, n_jobs=-1)\n",
    "clf.fit(X_train, y_train)"
   ]
  },
  {
   "cell_type": "code",
   "execution_count": 44,
   "metadata": {
    "collapsed": false
   },
   "outputs": [
    {
     "data": {
      "text/html": [
       "<div>\n",
       "<table border=\"1\" class=\"dataframe\">\n",
       "  <thead>\n",
       "    <tr style=\"text-align: right;\">\n",
       "      <th></th>\n",
       "      <th>Survived</th>\n",
       "      <th>Survived (Pred)</th>\n",
       "    </tr>\n",
       "  </thead>\n",
       "  <tbody>\n",
       "    <tr>\n",
       "      <th>169</th>\n",
       "      <td>0</td>\n",
       "      <td>1</td>\n",
       "    </tr>\n",
       "    <tr>\n",
       "      <th>556</th>\n",
       "      <td>1</td>\n",
       "      <td>1</td>\n",
       "    </tr>\n",
       "    <tr>\n",
       "      <th>206</th>\n",
       "      <td>0</td>\n",
       "      <td>0</td>\n",
       "    </tr>\n",
       "    <tr>\n",
       "      <th>71</th>\n",
       "      <td>0</td>\n",
       "      <td>0</td>\n",
       "    </tr>\n",
       "    <tr>\n",
       "      <th>677</th>\n",
       "      <td>1</td>\n",
       "      <td>0</td>\n",
       "    </tr>\n",
       "    <tr>\n",
       "      <th>839</th>\n",
       "      <td>1</td>\n",
       "      <td>0</td>\n",
       "    </tr>\n",
       "    <tr>\n",
       "      <th>835</th>\n",
       "      <td>1</td>\n",
       "      <td>1</td>\n",
       "    </tr>\n",
       "    <tr>\n",
       "      <th>261</th>\n",
       "      <td>1</td>\n",
       "      <td>0</td>\n",
       "    </tr>\n",
       "    <tr>\n",
       "      <th>179</th>\n",
       "      <td>0</td>\n",
       "      <td>0</td>\n",
       "    </tr>\n",
       "    <tr>\n",
       "      <th>282</th>\n",
       "      <td>0</td>\n",
       "      <td>0</td>\n",
       "    </tr>\n",
       "  </tbody>\n",
       "</table>\n",
       "</div>"
      ],
      "text/plain": [
       "     Survived  Survived (Pred)\n",
       "169         0                1\n",
       "556         1                1\n",
       "206         0                0\n",
       "71          0                0\n",
       "677         1                0\n",
       "839         1                0\n",
       "835         1                1\n",
       "261         1                0\n",
       "179         0                0\n",
       "282         0                0"
      ]
     },
     "execution_count": 44,
     "metadata": {},
     "output_type": "execute_result"
    }
   ],
   "source": [
    "# Visualize actual and predicted survivorship from random forest model\n",
    "predictedRF = pd.DataFrame(clf.predict(X_test),columns=['Survived (Pred)'])\n",
    "predictedRF = predictedRF.set_index(actual_indices)\n",
    "cmpActPredRF = pd.concat([actual,predictedRF],axis=1)\n",
    "cmpActPredRF.head(10)"
   ]
  },
  {
   "cell_type": "code",
   "execution_count": 45,
   "metadata": {
    "collapsed": false
   },
   "outputs": [
    {
     "name": "stdout",
     "output_type": "stream",
     "text": [
      "Area under ROC 0.8740031897926636\n"
     ]
    }
   ],
   "source": [
    "# Random forest training Predictions\n",
    "preds = clf.predict(X_test)\n",
    "score = roc_auc_score(y_test, preds)\n",
    "print(\"Area under ROC {0}\".format(score))"
   ]
  },
  {
   "cell_type": "code",
   "execution_count": 46,
   "metadata": {
    "collapsed": true
   },
   "outputs": [],
   "source": [
    "# Test Set Predictions\n",
    "test_preds = clf.predict(test)\n",
    "\n",
    "# Format for submission\n",
    "output = pd.DataFrame({ 'PassengerId' : test_indices, 'Survived': test_preds })\n",
    "output.to_csv('randomForestPred.csv', index = False)"
   ]
  }
 ],
 "metadata": {
  "kernelspec": {
   "display_name": "Python [Root]",
   "language": "python",
   "name": "Python [Root]"
  },
  "language_info": {
   "codemirror_mode": {
    "name": "ipython",
    "version": 3
   },
   "file_extension": ".py",
   "mimetype": "text/x-python",
   "name": "python",
   "nbconvert_exporter": "python",
   "pygments_lexer": "ipython3",
   "version": "3.5.2"
  }
 },
 "nbformat": 4,
 "nbformat_minor": 0
}
